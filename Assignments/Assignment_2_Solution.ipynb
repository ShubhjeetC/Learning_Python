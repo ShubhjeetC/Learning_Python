{
 "cells": [
  {
   "cell_type": "markdown",
   "metadata": {},
   "source": [
    "#### Task 1 - Problem 1.1\n",
    "Write a Python Program to implement your own myreduce() function which works exactly like\n",
    "Python's built-in function reduce()"
   ]
  },
  {
   "cell_type": "code",
   "execution_count": 1,
   "metadata": {},
   "outputs": [],
   "source": [
    "# Defining a function that takes two numbers and returns the largest\n",
    "def max_num(num1,num2):\n",
    "    if num1>num2:\n",
    "        return num1\n",
    "    else:\n",
    "        return num2\n",
    "    \n",
    "# Defining own custom reduce function\n",
    "def myreduce(func_name, input_list):\n",
    "    l1 = input_list.copy()\n",
    "    while len(l1)>1:\n",
    "        red_val=func_name(l1[0],l1[1])\n",
    "        l1.pop(0)\n",
    "        l1.pop(0)\n",
    "        l1.insert(0,red_val)\n",
    "    return l1[0]"
   ]
  },
  {
   "cell_type": "code",
   "execution_count": 2,
   "metadata": {},
   "outputs": [
    {
     "name": "stdout",
     "output_type": "stream",
     "text": [
      "78\n",
      "78\n"
     ]
    }
   ],
   "source": [
    "# Output when using Python's reduce function\n",
    "from functools import reduce\n",
    "print(reduce(max_num,[23,45,65,67,34,2,78,21,21]))\n",
    "\n",
    "# Output when using custom reduce function\n",
    "print(myreduce(max_num,[23,45,65,67,34,2,78,21]))"
   ]
  },
  {
   "cell_type": "markdown",
   "metadata": {},
   "source": [
    "#### Task 1 - Problem 1.2\n",
    "Write a Python program to implement your own myfilter() function which works exactly like\n",
    "Python's built-in function filter()"
   ]
  },
  {
   "cell_type": "code",
   "execution_count": 3,
   "metadata": {
    "collapsed": true
   },
   "outputs": [],
   "source": [
    "# Defining a function that checks if the input number is even or not\n",
    "def even_check(num):\n",
    "    if num%2==0:\n",
    "        return True\n",
    "    else:\n",
    "        return False\n",
    "\n",
    "# Defining custom filter function\n",
    "def myfilter(func_name,input_list):\n",
    "    final_list = list()\n",
    "    for i in input_list:\n",
    "        if func_name(i):\n",
    "            final_list.append(i)\n",
    "    return final_list"
   ]
  },
  {
   "cell_type": "code",
   "execution_count": 4,
   "metadata": {},
   "outputs": [
    {
     "name": "stdout",
     "output_type": "stream",
     "text": [
      "[2, 4, 6, 8]\n",
      "[2, 4, 6, 8]\n"
     ]
    }
   ],
   "source": [
    "# Output when using Python's filter function\n",
    "print(list(filter(even_check,[1,2,3,4,5,6,7,8])))\n",
    "\n",
    "# Output when using custom filter function\n",
    "print(myfilter(even_check,[1,2,3,4,5,6,7,8]))"
   ]
  },
  {
   "cell_type": "markdown",
   "metadata": {},
   "source": [
    "#### Task 1 - Problem 2\n",
    "Implement List comprehensions to produce the following lists.\n",
    "Write List comprehensions to produce the following Lists"
   ]
  },
  {
   "cell_type": "markdown",
   "metadata": {},
   "source": [
    "##### Expected Output : ['A', 'C', 'A', 'D', 'G', 'I', ’L’, ‘ D’]"
   ]
  },
  {
   "cell_type": "code",
   "execution_count": 5,
   "metadata": {},
   "outputs": [
    {
     "name": "stdout",
     "output_type": "stream",
     "text": [
      "Enter a input text: ACAD GILD\n",
      "['A', 'C', 'A', 'D', 'G', 'I', 'L', 'D']\n"
     ]
    }
   ],
   "source": [
    "str=input(\"Enter a input text: \")\n",
    "\n",
    "list1 = [i for i in str if i!=' ']\n",
    "print(list1)"
   ]
  },
  {
   "cell_type": "markdown",
   "metadata": {},
   "source": [
    "##### Expected output : ['x', 'xx', 'xxx', 'xxxx', 'y', 'yy', 'yyy', 'yyyy', 'z', 'zz', 'zzz', 'zzzz']"
   ]
  },
  {
   "cell_type": "code",
   "execution_count": 6,
   "metadata": {},
   "outputs": [
    {
     "name": "stdout",
     "output_type": "stream",
     "text": [
      "['x', 'xx', 'xxx', 'xxxx', 'y', 'yy', 'yyy', 'yyyy', 'z', 'zz', 'zzz', 'zzzz']\n",
      "['x', 'xx', 'xxx', 'xxxx', 'y', 'yy', 'yyy', 'yyyy', 'z', 'zz', 'zzz', 'zzzz']\n"
     ]
    }
   ],
   "source": [
    "# Option 1\n",
    "l1 = ['x','y','z']\n",
    "list2 = [ j for i in l1 for j in (i,i*2,i*3,i*4)]\n",
    "print(list2)\n",
    "\n",
    "# Option 2\n",
    "l1 = ['x','y','z']\n",
    "list3 = [ i*j for i in l1 for j in range (1,5,1)]\n",
    "print(list3)"
   ]
  },
  {
   "cell_type": "markdown",
   "metadata": {},
   "source": [
    "##### Expected Output : ['x', 'y', 'z', 'xx', 'yy', 'zz', 'xx', 'yy', 'zz', 'xxxx', 'yyyy', 'zzzz']"
   ]
  },
  {
   "cell_type": "code",
   "execution_count": 7,
   "metadata": {},
   "outputs": [
    {
     "name": "stdout",
     "output_type": "stream",
     "text": [
      "['x', 'y', 'z', 'xx', 'yy', 'zz', 'xxx', 'yyy', 'zzz', 'xxxx', 'yyyy', 'zzzz']\n"
     ]
    }
   ],
   "source": [
    "l1 = ['x','y','z']\n",
    "list4 = [ i*j for j in range(1,5,1) for i in l1]\n",
    "print (list4)"
   ]
  },
  {
   "cell_type": "markdown",
   "metadata": {},
   "source": [
    "##### Expected Output : [[2], [3], [4], [3], [4], [5], [4], [5], [6]]"
   ]
  },
  {
   "cell_type": "code",
   "execution_count": 8,
   "metadata": {},
   "outputs": [
    {
     "name": "stdout",
     "output_type": "stream",
     "text": [
      "[[2], [3], [4], [3], [4], [5], [4], [5], [6]]\n"
     ]
    }
   ],
   "source": [
    "list5 = [[i+j] for i in range(2,5,1) for j in range(3)]\n",
    "print(list5)"
   ]
  },
  {
   "cell_type": "markdown",
   "metadata": {},
   "source": [
    "##### Expected Output : [[2, 3, 4, 5], [3, 4, 5, 6], [4, 5, 6, 7], [5, 6, 7, 8]]"
   ]
  },
  {
   "cell_type": "code",
   "execution_count": 9,
   "metadata": {},
   "outputs": [
    {
     "name": "stdout",
     "output_type": "stream",
     "text": [
      "[[2, 3, 4, 5], [3, 4, 5, 6], [4, 5, 6, 7], [5, 6, 7, 8]]\n"
     ]
    }
   ],
   "source": [
    "l6 = [2,3,4,5]\n",
    "list6 = [[j+i for j in range(0,4,1)] for i in l6]\n",
    "print(list6)"
   ]
  },
  {
   "cell_type": "markdown",
   "metadata": {},
   "source": [
    "##### Expected Output : [(1, 1), (2, 1), (3, 1), (1, 2), (2, 2), (3, 2), (1, 3), (2, 3), (3, 3)]"
   ]
  },
  {
   "cell_type": "code",
   "execution_count": 10,
   "metadata": {},
   "outputs": [
    {
     "name": "stdout",
     "output_type": "stream",
     "text": [
      "[(1, 1), (2, 1), (3, 1), (1, 2), (2, 2), (3, 2), (1, 3), (2, 3), (3, 3)]\n"
     ]
    }
   ],
   "source": [
    "list7 = [(j,i) for i in range (1,4) for j in range (1,4)]\n",
    "print(list7)"
   ]
  },
  {
   "cell_type": "markdown",
   "metadata": {},
   "source": [
    "#### Task 1 - Problem 3\n",
    "Implement a function longestWord() that takes a list of words and returns the longest one."
   ]
  },
  {
   "cell_type": "code",
   "execution_count": 11,
   "metadata": {},
   "outputs": [
    {
     "name": "stdout",
     "output_type": "stream",
     "text": [
      "Enter a list of words : Beauty Bravery Courage Fantastic Inspiration\n",
      "The longest word is : Inspiration \n"
     ]
    }
   ],
   "source": [
    "def longestWord(sentence):\n",
    "    long_length = 0\n",
    "    long_word = ''\n",
    "    for i in sentence:\n",
    "        if len(i) > long_length:\n",
    "            long_length = len(i)\n",
    "            long_word = i\n",
    "    return long_word\n",
    "\n",
    "\n",
    "str = input(\"Enter a list of words : \")\n",
    "l1 = str.split()\n",
    "print (\"The longest word is : %s \" %(longestWord(l1)))"
   ]
  },
  {
   "cell_type": "markdown",
   "metadata": {},
   "source": [
    "##### Task 2 - Problem 1.1\n",
    "Write a Python Program(with class concepts) to find the area of the triangle using the below\n",
    "formula.\n",
    "area = (s*(s-a)*(s-b)*(s-c)) ** 0.5\n",
    "Function to take the length of the sides of triangle from user should be defined in the parent\n",
    "class and function to calculate the area should be defined in subclass."
   ]
  },
  {
   "cell_type": "code",
   "execution_count": 12,
   "metadata": {},
   "outputs": [],
   "source": [
    "class Triangle(object):\n",
    "    # Triangle gets instantiated with each side length to 1 as default\n",
    "    def  __init__(self,side1=1,side2=1,side3=1):\n",
    "        self.side1=1\n",
    "        self.side2=1\n",
    "        self.side3=1\n",
    "        \n",
    "    # Method for setting the sides of the triangle\n",
    "    def setSides(self):\n",
    "        self.side1=float(input('Enter the length of the first side : '))\n",
    "        self.side2=float(input('Enter the length of the second side : '))\n",
    "        self.side3=float(input('Enter the length of the third side : '))\n",
    "        \n",
    "    # Method for getting the sides of the triangle\n",
    "    def getSides(self):\n",
    "        print('The length of the three side of triangle are : {a}, {b} and {c}'.format(a=self.side1,b=self.side2,c=self.side3))\n",
    "\n",
    "class Triangle_Type1(Triangle):\n",
    "    \n",
    "    # Method to calculate the area of triangle\n",
    "    def area(self):\n",
    "        s=(self.side1+self.side2+self.side3)/2\n",
    "        ar=((s*(s-self.side1)*(s-self.side2)*(s-self.side3))**0.5)\n",
    "        print('The area of the triangle is: %f' %(ar))"
   ]
  },
  {
   "cell_type": "code",
   "execution_count": 13,
   "metadata": {},
   "outputs": [
    {
     "name": "stdout",
     "output_type": "stream",
     "text": [
      "Enter the length of the first side : 10\n",
      "Enter the length of the second side : 20\n",
      "Enter the length of the third side : 14\n",
      "The length of the three side of triangle are : 10.0, 20.0 and 14.0\n",
      "The area of the triangle is: 64.992307\n"
     ]
    }
   ],
   "source": [
    "t = Triangle_Type1()\n",
    "t.setSides()\n",
    "t.getSides()\n",
    "t.area()"
   ]
  },
  {
   "cell_type": "markdown",
   "metadata": {},
   "source": [
    "#### Task 2 - Problem 1.2\n",
    "Write a function filter_long_words() that takes a list of words and an integer n and returns the list\n",
    "of words that are longer than n."
   ]
  },
  {
   "cell_type": "code",
   "execution_count": 14,
   "metadata": {},
   "outputs": [
    {
     "name": "stdout",
     "output_type": "stream",
     "text": [
      "Enter a list of words : This is my second tutorial in Python series\n",
      "Enter minimum length : 5\n",
      "The output list is : ['second', 'tutorial', 'Python', 'series']\n"
     ]
    }
   ],
   "source": [
    "def filter_long_words(word_list,min_length):\n",
    "    output_list=list()\n",
    "    for i in word_list:\n",
    "        if len(i) > min_length:\n",
    "            output_list.append(i)\n",
    "    return output_list\n",
    "\n",
    "str = input(\"Enter a list of words : \")\n",
    "minlen=int(input(\"Enter minimum length : \"))\n",
    "l1 = str.split()\n",
    "print ('The output list is : {a}'.format(a=filter_long_words(l1,minlen)))"
   ]
  },
  {
   "cell_type": "markdown",
   "metadata": {},
   "source": [
    "##### Task 2 - Problem 2.1\n",
    "Write a Python program using function concept that maps list of words into a list of integers\n",
    "representing the lengths of the corresponding words .\n",
    "Hint: If a list [ ab,cde,erty] is passed on to the python function output should come as [2,3,4]\n",
    "Here 2,3 and 4 are the lengths of the words in the list."
   ]
  },
  {
   "cell_type": "code",
   "execution_count": 15,
   "metadata": {},
   "outputs": [
    {
     "name": "stdout",
     "output_type": "stream",
     "text": [
      "[2, 3, 5]\n"
     ]
    }
   ],
   "source": [
    "def func_list_length(input_list):\n",
    "    return map(len,input_list)\n",
    "\n",
    "print(list(func_list_length(['ab','asd','dewde'])))\n"
   ]
  },
  {
   "cell_type": "markdown",
   "metadata": {},
   "source": [
    "##### Task 2 - Problem 2.2\n",
    "Write a Python function which takes a character (i.e. a string of length 1) and returns True if it is\n",
    "a vowel, False otherwise."
   ]
  },
  {
   "cell_type": "code",
   "execution_count": 16,
   "metadata": {},
   "outputs": [],
   "source": [
    "def check_vowel(input_char):\n",
    "    if (input_char=='a' or input_char=='A' or input_char=='e' or input_char=='E' or input_char=='i' or input_char=='I'\n",
    "        or input_char=='o' or input_char=='O' or input_char=='u' or input_char=='U'):\n",
    "        return True\n",
    "    else:\n",
    "        return False"
   ]
  },
  {
   "cell_type": "code",
   "execution_count": 17,
   "metadata": {},
   "outputs": [
    {
     "name": "stdout",
     "output_type": "stream",
     "text": [
      "Enter a character:i\n"
     ]
    },
    {
     "data": {
      "text/plain": [
       "True"
      ]
     },
     "execution_count": 17,
     "metadata": {},
     "output_type": "execute_result"
    }
   ],
   "source": [
    "c=input('Enter a character:')\n",
    "check_vowel(c)"
   ]
  }
 ],
 "metadata": {
  "kernelspec": {
   "display_name": "Python 3",
   "language": "python",
   "name": "python3"
  },
  "language_info": {
   "codemirror_mode": {
    "name": "ipython",
    "version": 3
   },
   "file_extension": ".py",
   "mimetype": "text/x-python",
   "name": "python",
   "nbconvert_exporter": "python",
   "pygments_lexer": "ipython3",
   "version": "3.6.1"
  }
 },
 "nbformat": 4,
 "nbformat_minor": 2
}
