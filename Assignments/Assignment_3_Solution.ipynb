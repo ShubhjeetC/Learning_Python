{
 "cells": [
  {
   "cell_type": "markdown",
   "metadata": {},
   "source": [
    "#### Task 1 Problem 1\n",
    "Write a function to compute 5/0 and use try/except to catch the exceptions."
   ]
  },
  {
   "cell_type": "code",
   "execution_count": 1,
   "metadata": {
    "collapsed": true
   },
   "outputs": [],
   "source": [
    "def func_div(numerator,denominator):\n",
    "    try:\n",
    "        result=numerator/denominator\n",
    "    except:\n",
    "        print('The division has resulted in an error')\n",
    "    else:\n",
    "        print('The result of the division is: %1.2f' %(result))"
   ]
  },
  {
   "cell_type": "code",
   "execution_count": 2,
   "metadata": {},
   "outputs": [
    {
     "name": "stdout",
     "output_type": "stream",
     "text": [
      "The division has resulted in an error\n"
     ]
    }
   ],
   "source": [
    "func_div(5,0)"
   ]
  },
  {
   "cell_type": "code",
   "execution_count": 3,
   "metadata": {},
   "outputs": [
    {
     "name": "stdout",
     "output_type": "stream",
     "text": [
      "The result of the division is: 2.50\n"
     ]
    }
   ],
   "source": [
    "func_div(5,2)"
   ]
  },
  {
   "cell_type": "markdown",
   "metadata": {},
   "source": [
    "#### Task 1 Problem 2\n",
    "Implement a Python program to generate all sentences where subject is in [\"Americans\",\n",
    "\"Indians\"] and verb is in [\"Play\", \"watch\"] and the object is in [\"Baseball\",\"cricket\"]."
   ]
  },
  {
   "cell_type": "code",
   "execution_count": 4,
   "metadata": {},
   "outputs": [
    {
     "name": "stdout",
     "output_type": "stream",
     "text": [
      "Americans play Baseball.\n",
      "Americans play Cricket.\n",
      "Americans watch Baseball.\n",
      "Americans watch Cricket.\n",
      "Indians play Baseball.\n",
      "Indians play Cricket.\n",
      "Indians watch Baseball.\n",
      "Indians watch Cricket.\n"
     ]
    }
   ],
   "source": [
    "subjects=[\"Americans\",\"Indians\"]\n",
    "verbs=[\"play\",\"watch\"]\n",
    "objects=[\"Baseball\",\"Cricket\"]\n",
    "\n",
    "list2 = [k+' '+ x+'.' for k in [i+' '+j for i in subjects for j in verbs] for x in objects]\n",
    "for z in list2:\n",
    "    print(z)"
   ]
  },
  {
   "cell_type": "markdown",
   "metadata": {},
   "source": [
    "#### Task 2 Problem 1\n",
    "Write a function so that the columns of the output matrix are powers of the input vector.\n",
    "The order of the powers is determined by the increasing boolean argument. Specifically, when\n",
    "increasing is False, the i-th output column is the input vector raised element-wise to the power\n",
    "of N - i - 1."
   ]
  },
  {
   "cell_type": "code",
   "execution_count": 5,
   "metadata": {},
   "outputs": [
    {
     "name": "stdout",
     "output_type": "stream",
     "text": [
      "[1, 1, 1, 1]\n",
      "[8, 4, 2, 1]\n",
      "[27, 9, 3, 1]\n",
      "[64, 16, 4, 1]\n",
      "[125, 25, 5, 1]\n"
     ]
    }
   ],
   "source": [
    "# Solution 1 : Using List as input\n",
    "def func_custom_vander(input_list,power_val,increasing):\n",
    "    for i in input_list:\n",
    "        l= [i**j for j in range(power_val-1,-1,-1)]\n",
    "        print(l)\n",
    "\n",
    "        # Calling custom function with required parameters (increasing as False)\n",
    "func_custom_vander([1,2,3,4,5],4,False)    "
   ]
  },
  {
   "cell_type": "code",
   "execution_count": 6,
   "metadata": {},
   "outputs": [
    {
     "data": {
      "text/plain": [
       "array([[  1,   1,   1,   1],\n",
       "       [  8,   4,   2,   1],\n",
       "       [ 27,   9,   3,   1],\n",
       "       [ 64,  16,   4,   1],\n",
       "       [125,  25,   5,   1]])"
      ]
     },
     "execution_count": 6,
     "metadata": {},
     "output_type": "execute_result"
    }
   ],
   "source": [
    "# Solution 2 : Using array as input\n",
    "import numpy as np\n",
    "\n",
    "def func_vander(input_array,power_val,increasing):\n",
    "    '''\n",
    "    Defining a custom function that takes following input:\n",
    "    input_array: one dimensional ndarray\n",
    "    power_val: the number of columns required in the output matrix\n",
    "    increasing: True or False to indicate if the output columns are to be in increasing or decreasing format\n",
    "    '''\n",
    "    if increasing == False:\n",
    "        return np.column_stack([input_array**j for j in range(power_val-1,-1,-1)])\n",
    "    if increasing == True:\n",
    "        return np.column_stack([input_array**j for j in range(0,power_val,1)])\n",
    "    \n",
    "# Calling custom function with required parameters (increasing as False)\n",
    "func_vander(np.array([1,2,3,4,5]),4,False)"
   ]
  },
  {
   "cell_type": "code",
   "execution_count": null,
   "metadata": {
    "collapsed": true
   },
   "outputs": [],
   "source": []
  }
 ],
 "metadata": {
  "kernelspec": {
   "display_name": "Python 3",
   "language": "python",
   "name": "python3"
  },
  "language_info": {
   "codemirror_mode": {
    "name": "ipython",
    "version": 3
   },
   "file_extension": ".py",
   "mimetype": "text/x-python",
   "name": "python",
   "nbconvert_exporter": "python",
   "pygments_lexer": "ipython3",
   "version": "3.6.1"
  }
 },
 "nbformat": 4,
 "nbformat_minor": 2
}
